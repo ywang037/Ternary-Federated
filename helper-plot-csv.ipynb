{
 "cells": [
  {
   "cell_type": "markdown",
   "id": "8d3e4d92",
   "metadata": {},
   "source": [
    "# Read csv files and plot learning curves for FedAvg experiment 1"
   ]
  },
  {
   "cell_type": "code",
   "execution_count": 1,
   "id": "7af49d3b",
   "metadata": {},
   "outputs": [],
   "source": [
    "import torch\n",
    "import pandas as pd\n",
    "import matplotlib\n",
    "import matplotlib.pyplot as plt"
   ]
  },
  {
   "cell_type": "code",
   "execution_count": 2,
   "id": "9a98a75f",
   "metadata": {},
   "outputs": [
    {
     "data": {
      "text/plain": [
       "'C:\\\\Users\\\\YWANG\\\\ihpc-proj-seagate\\\\Ternary-Federated'"
      ]
     },
     "execution_count": 2,
     "metadata": {},
     "output_type": "execute_result"
    }
   ],
   "source": [
    "import time\n",
    "import os\n",
    "from os import walk\n",
    "from os.path import join\n",
    "os.getcwd()\n",
    "\n",
    "# os.chdir('src')\n",
    "# os.getcwd()"
   ]
  },
  {
   "cell_type": "code",
   "execution_count": 20,
   "id": "5f19f7bf",
   "metadata": {},
   "outputs": [
    {
     "name": "stdout",
     "output_type": "stream",
     "text": [
      "['cifar10-ResNet-r100-le10-lb64-nc3-lr0.008-21-09-15-16-35-41.csv', 'cifar10-ResNet-r100-le5-lb64-nc3-lr0.008-21-09-12-22-18-00.csv', 'cifar10-ResNet-r100-le5-lb64-nc3-lr0.008-21-09-13-09-03-04.csv', 'cifar10-ResNet-r160-le3-lb64-nc3-lr0.008-21-09-13-21-59-12.csv']\n"
     ]
    }
   ],
   "source": [
    "# load data frame from csv files\n",
    "file_path_1 = '../save_sea'\n",
    "_, _, filenames_1 = next(walk(file_path_1))\n",
    "files_to_read_1 = [join(file_path_1,f) for f in filenames_1]\n",
    "df_1 = [pd.read_csv(f) for f in files_to_read_1]\n",
    "print(filenames_1)\n",
    "# print(df_1)\n",
    "\n",
    "# file_path_2 = '..\\\\save\\\\figures-mnist\\\\data_src_exp_1_non_iid'\n",
    "# _, _, filenames_2 = next(walk(file_path_2))\n",
    "# files_to_read_2 = [join(file_path_2,f) for f in filenames_2]\n",
    "# df_2 = [pd.read_csv(f) for f in files_to_read_2]"
   ]
  },
  {
   "cell_type": "code",
   "execution_count": 13,
   "id": "68506521",
   "metadata": {},
   "outputs": [],
   "source": [
    "# define a function for making monotonically incerasing learning curve\n",
    "def make_learning_curve(x):\n",
    "    \"\"\"\n",
    "    Use this function to get monotonically incerasing learning curve\n",
    "    from an input list x\n",
    "    \"\"\"\n",
    "    running_max=0\n",
    "    y=[0]*len(x)\n",
    "    for idx, value in enumerate(x):\n",
    "        running_max = max(x[:idx+1])\n",
    "        y[idx] = running_max if x[idx] < running_max else x[idx]\n",
    "    return y"
   ]
  },
  {
   "cell_type": "code",
   "execution_count": 5,
   "id": "65c131df",
   "metadata": {
    "tags": []
   },
   "outputs": [],
   "source": [
    "\n",
    "\n",
    "# # set the label names\n",
    "# run_labels=[0]*8\n",
    "# run_labels[0] = '$E=5$, $B=10$, $C=0.0$'\n",
    "# run_labels[1] = '$E=5$, $B=10$, $C=0.1$'\n",
    "# run_labels[2] = '$E=5$, $B=10$, $C=0.2$'\n",
    "# run_labels[3] = '$E=5$, $B=10$, $C=0.5$'\n",
    "# run_labels[4] = '$E=5$, $B=\\infty$, $C=0.0$'\n",
    "# run_labels[5] = '$E=5$, $B=\\infty$, $C=0.1$'\n",
    "# run_labels[6] = '$E=5$, $B=\\infty$, $C=0.2$'\n",
    "# run_labels[7] = '$E=5$, $B=\\infty$, $C=0.5$'\n",
    "\n",
    "# # define line style and color\n",
    "# run_colors, run_linestyles = [0]*8, [0]*8\n",
    "\n",
    "# for i in range(4):\n",
    "#     run_linestyles[i] = '-'\n",
    "# for i in range(4,8):\n",
    "#     run_linestyles[i] = '--'\n",
    "\n",
    "# run_colors[0], run_colors[4] = 'dodgerblue', 'dodgerblue'\n",
    "# run_colors[1], run_colors[5] = 'deeppink', 'deeppink'\n",
    "# run_colors[2], run_colors[6] = 'orange', 'orange'\n",
    "# run_colors[3], run_colors[7] = 'springgreen', 'springgreen'"
   ]
  },
  {
   "cell_type": "markdown",
   "id": "d90fc147",
   "metadata": {},
   "source": [
    "### choosing color and linestyle\n",
    "Please see https://matplotlib.org/stable/gallery/color/named_colors.html and https://matplotlib.org/3.0.3/gallery/lines_bars_and_markers/line_styles_reference.html"
   ]
  },
  {
   "cell_type": "code",
   "execution_count": 6,
   "id": "9e179efb",
   "metadata": {},
   "outputs": [],
   "source": [
    "# # plot the first figure\n",
    "# run_colors = 'dodgerblue'\n",
    "# run_labels = '3 clients, IID, T-FedAvg'\n",
    "# run_linestyles = '-'\n",
    "\n",
    "# step_1=1\n",
    "# plt.figure()\n",
    "# for i, data in enumerate(df_1):\n",
    "# #     lc = make_learning_curve(data['Test acc'].tolist())\n",
    "#     lc = data['Test acc'].tolist()\n",
    "#     x = [dx for j, dx in enumerate(data['Round'].tolist()) if j % step_1 == 0]\n",
    "#     y = [dy for j, dy in enumerate(lc) if j % step_1 == 0]  \n",
    "#     plt.plot(x,y,label=run_labels, linestyle=run_linestyles, color=run_colors,linewidth=2)\n",
    "#     plt.legend(loc='lower right')\n",
    "# plt.grid()\n",
    "# # plt.tight_layout()\n",
    "# plt.xlim(0,100)\n",
    "# plt.ylim(0.75,0.95)\n",
    "# plt.xlabel('Comm. rounds')\n",
    "# plt.ylabel('Test acc')\n",
    "# # plt.savefig('..\\\\save\\\\figures-mnist\\\\fedavg-exp-1-iid-mono.png')"
   ]
  },
  {
   "cell_type": "code",
   "execution_count": 25,
   "id": "890cf91c",
   "metadata": {},
   "outputs": [
    {
     "data": {
      "image/png": "[encoded data removed]",
      "text/plain": [
       "<Figure size 432x288 with 1 Axes>"
      ]
     },
     "metadata": {
      "needs_background": "light"
     },
     "output_type": "display_data"
    }
   ],
   "source": [
    "# plot figure of running results\n",
    "# get the number of runs to be plotted\n",
    "n_fig = len(df_1)\n",
    "\n",
    "run_labels, run_colors, run_linestyles = [0]*n_fig, [0]*n_fig, [0]*n_fig\n",
    "\n",
    "# set the labels \n",
    "run_labels[1] = 'fed mdl E=5 B=64 S2'\n",
    "run_labels[2] = 'fed mdl E=5 B=64 S3'\n",
    "run_labels[3] = 'fed mdl E=3 B=64 S3'\n",
    "run_labels[0] = 'fed mdl E=10 B=64 S3'\n",
    "\n",
    "# set the line styles\n",
    "run_linestyles[0] = '-'\n",
    "run_linestyles[1] = '-'\n",
    "run_linestyles[2] = '-'\n",
    "run_linestyles[3] = '-'\n",
    "\n",
    "# set the line colors\n",
    "run_colors[1] = 'dodgerblue'\n",
    "run_colors[2] = 'deeppink'\n",
    "run_colors[3] = 'orange'\n",
    "run_colors[0] = 'springgreen'\n",
    "\n",
    "# set the option for making monotonically incerasing learning curve\n",
    "mlc_flag = True\n",
    "\n",
    "# set granuality of data points\n",
    "step_2=1\n",
    "plt.figure()\n",
    "for i, data in enumerate(df_1):\n",
    "    if mlc_flag:\n",
    "        lc = make_learning_curve(data['Test acc'].tolist())\n",
    "    else:\n",
    "        lc = data['Test acc'].tolist()\n",
    "    x = [dx for j, dx in enumerate(data['Round'].tolist()) if j % step_2 == 0]\n",
    "    y = [dy for j, dy in enumerate(lc) if j % step_2 == 0]   \n",
    "    plt.plot(x,y,label=run_labels[i], linestyle=run_linestyles[i], color=run_colors[i], linewidth=2)\n",
    "    plt.legend(loc='lower right')\n",
    "plt.grid()\n",
    "# plt.tight_layout()\n",
    "plt.xlim(0,100)\n",
    "plt.ylim(0.75,0.95)\n",
    "plt.yticks([.76, .78, .80, .82, .84, .86, .88, .90, .92, .94])\n",
    "plt.xlabel('Comm. rounds')\n",
    "plt.ylabel('Test acc', size='large')\n",
    "plt.title('T-Fedavg with 3 clients, IID, Adam, lr=0.008')\n",
    "\n",
    "# save figures\n",
    "save_fig_flag = False\n",
    "save_fig_path = '../save_sea_fig/T-FedAvg_' + time.strftime('%y-%m-%d-%H-%M-%S.png')\n",
    "if save_fig_flag:\n",
    "    plt.savefig(save_fig_path)"
   ]
  },
  {
   "cell_type": "code",
   "execution_count": null,
   "id": "362e462f-10b7-4ca9-ae0f-6d381c3b935a",
   "metadata": {},
   "outputs": [],
   "source": []
  }
 ],
 "metadata": {
  "kernelspec": {
   "display_name": "Python 3 (ipykernel)",
   "language": "python",
   "name": "python3"
  },
  "language_info": {
   "codemirror_mode": {
    "name": "ipython",
    "version": 3
   },
   "file_extension": ".py",
   "mimetype": "text/x-python",
   "name": "python",
   "nbconvert_exporter": "python",
   "pygments_lexer": "ipython3",
   "version": "3.8.11"
  }
 },
 "nbformat": 4,
 "nbformat_minor": 5
}
