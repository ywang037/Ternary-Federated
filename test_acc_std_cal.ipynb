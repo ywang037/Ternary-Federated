{
 "cells": [
  {
   "cell_type": "markdown",
   "id": "5446248a-7b56-4a77-afa8-697a594ea9dc",
   "metadata": {},
   "source": [
    "# Evaluation results for T-FedAvg"
   ]
  },
  {
   "cell_type": "markdown",
   "id": "62dc5684-1720-4c09-975f-a5608a57e342",
   "metadata": {},
   "source": [
    "### Method\n",
    "1. Follow the exact learning rate (0.008), batch size (64) and number of rounds (100) reported in [the paper](https://ieeexplore.ieee.org/abstract/document/9288933); original source code is [here](https://github.com/VeritasXu/Ternary-Federated).\n",
    "2. Evaluated three different strategies for quantizing the global model aggregated at server:\n",
    "    * S1: server will determine to quantize the global to be pulled to clinet if the performance drop incurred by the quantized global model is less than 3% \n",
    "    * S2: server will not quantize the global model at all time\n",
    "    * S3: server will always quantize the global model to be pulled by clients"
   ]
  },
  {
   "cell_type": "code",
   "execution_count": 1,
   "id": "c03fafa4-9fad-4d2e-87e8-bb82d3308770",
   "metadata": {},
   "outputs": [],
   "source": [
    "import numpy as np\n",
    "from collections import OrderedDict"
   ]
  },
  {
   "cell_type": "code",
   "execution_count": 2,
   "id": "5cd2119a-1350-41b4-9b2d-cca3c6c1fa27",
   "metadata": {},
   "outputs": [],
   "source": [
    "D = OrderedDict()\n",
    "D['S2-E5']  = [0.9174, 0.8843, 0.913,  0.9161, 0.9180]\n",
    "D['S3-E5']  = [0.8876, 0.9192, 0.9181, 0.8888, 0.8847]\n",
    "D['S3-E10'] = [0.9012, 0.8919, 0.8964, 0.9012, 0.8947]"
   ]
  },
  {
   "cell_type": "code",
   "execution_count": 3,
   "id": "8d59adec-ad4d-4346-9029-235e9d7e7764",
   "metadata": {},
   "outputs": [
    {
     "name": "stdout",
     "output_type": "stream",
     "text": [
      "OrderedDict([('S2-E5', array([0.9098, 0.0128])), ('S3-E5', array([0.8997, 0.0156])), ('S3-E10', array([0.8971, 0.0037]))])\n"
     ]
    }
   ],
   "source": [
    "test_acc = OrderedDict()\n",
    "for key in D.keys():\n",
    "    test_acc[key] = np.around([np.mean(D[key]), np.std(D[key])],4)\n",
    "print(test_acc)"
   ]
  },
  {
   "cell_type": "code",
   "execution_count": null,
   "id": "4562909a-9081-41c9-aa84-e6047fff1b82",
   "metadata": {},
   "outputs": [],
   "source": []
  }
 ],
 "metadata": {
  "kernelspec": {
   "display_name": "Python 3 (ipykernel)",
   "language": "python",
   "name": "python3"
  },
  "language_info": {
   "codemirror_mode": {
    "name": "ipython",
    "version": 3
   },
   "file_extension": ".py",
   "mimetype": "text/x-python",
   "name": "python",
   "nbconvert_exporter": "python",
   "pygments_lexer": "ipython3",
   "version": "3.8.11"
  }
 },
 "nbformat": 4,
 "nbformat_minor": 5
}
