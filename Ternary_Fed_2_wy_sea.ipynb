{
 "cells": [
  {
   "cell_type": "markdown",
   "id": "c92b88e7-8169-4125-8a09-d3ab09f7c721",
   "metadata": {},
   "source": [
    "### This is the helper file for debugging and test some important modules' functionality"
   ]
  },
  {
   "cell_type": "code",
   "execution_count": 1,
   "id": "5b6c5d97-4d26-4088-b166-26449969c476",
   "metadata": {},
   "outputs": [
    {
     "name": "stdout",
     "output_type": "stream",
     "text": [
      "C:\\Users\\YWANG\\ihpc-proj-seagate\\Ternary-Federated\n"
     ]
    }
   ],
   "source": [
    "import sys\n",
    "import copy\n",
    "import torch\n",
    "import numpy as np\n",
    "\n",
    "import time, csv\n",
    "from itertools import zip_longest\n",
    "import torch.nn as nn\n",
    "import os\n",
    "\n",
    "print(os.getcwd())"
   ]
  },
  {
   "cell_type": "code",
   "execution_count": 9,
   "id": "44d28351-7176-4d17-9013-f1d2d09cc8a2",
   "metadata": {},
   "outputs": [
    {
     "name": "stderr",
     "output_type": "stream",
     "text": [
      "usage: ipykernel_launcher.py [-h] [--ada_thresh ADA_THRESH] [--T_thresh T_THRESH] [--lr LR] [--local_e LOCAL_E]\n",
      "                             [--rounds ROUNDS] [--device DEVICE] [--batch_size BATCH_SIZE] [--dataset DATASET]\n",
      "                             [--model MODEL] [--optimizer OPTIMIZER] [--frac FRAC] [--num_C NUM_C] [--Nc NC]\n",
      "                             [--iid IID] [--seed SEED] [--gpu_id GPU_ID] [--save_record SAVE_RECORD] [--fedmdl FEDMDL]\n",
      "ipykernel_launcher.py: error: unrecognized arguments: -f C:\\Users\\YWANG\\AppData\\Roaming\\jupyter\\runtime\\kernel-64eceafd-271f-4aa3-9d34-2a9feb6c9aa5.json\n"
     ]
    },
    {
     "ename": "SystemExit",
     "evalue": "2",
     "output_type": "error",
     "traceback": [
      "An exception has occurred, use %tb to see the full traceback.\n",
      "\u001b[1;31mSystemExit\u001b[0m\u001b[1;31m:\u001b[0m 2\n"
     ]
    },
    {
     "name": "stderr",
     "output_type": "stream",
     "text": [
      "C:\\Users\\YWANG\\.conda\\envs\\myfl-ihpc-seagate\\lib\\site-packages\\IPython\\core\\interactiveshell.py:3449: UserWarning: To exit: use 'exit', 'quit', or Ctrl-D.\n",
      "  warn(\"To exit: use 'exit', 'quit', or Ctrl-D.\", stacklevel=1)\n"
     ]
    }
   ],
   "source": [
    "from utils.config_wy import args_parser\n",
    "from utils.Evaluate import evaluate\n",
    "import utils.data_utils as data_utils\n",
    "# from tools.Fed_Operator import ServerUpdate, LocalUpdate\n",
    "\n",
    "import utils.data_utils_wy\n",
    "\n",
    "# # WY's add on\n",
    "# import utils.data_utils_wy as data_utils_wy"
   ]
  },
  {
   "cell_type": "code",
   "execution_count": null,
   "id": "f49add9c-2492-4c72-a907-dc8a55ca18e5",
   "metadata": {},
   "outputs": [],
   "source": []
  }
 ],
 "metadata": {
  "kernelspec": {
   "display_name": "Python 3 (ipykernel)",
   "language": "python",
   "name": "python3"
  },
  "language_info": {
   "codemirror_mode": {
    "name": "ipython",
    "version": 3
   },
   "file_extension": ".py",
   "mimetype": "text/x-python",
   "name": "python",
   "nbconvert_exporter": "python",
   "pygments_lexer": "ipython3",
   "version": "3.8.11"
  }
 },
 "nbformat": 4,
 "nbformat_minor": 5
}
